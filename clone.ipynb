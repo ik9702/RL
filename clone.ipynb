{
 "cells": [
  {
   "cell_type": "code",
   "execution_count": 55,
   "metadata": {},
   "outputs": [],
   "source": [
    "import numpy as np\n",
    "\n",
    "ACTIONS = ('U', 'D', 'L', 'R')\n",
    "DELTA_THRESHOLD = 1e-3\n",
    "GAMMA = 0.9"
   ]
  },
  {
   "cell_type": "code",
   "execution_count": 56,
   "metadata": {},
   "outputs": [],
   "source": [
    "class Grid():\n",
    "    \n",
    "    def __init__(self, rows, cols, start):\n",
    "        self.rows = rows\n",
    "        self.cols = cols\n",
    "        self.i = start[0]\n",
    "        self.j = start[1]\n",
    "        \n",
    "    def set(self, rewards, actions):\n",
    "        self.rewards = rewards\n",
    "        self.actions = actions\n",
    "        \n",
    "    def set_state(self, s):\n",
    "        self.i = s[0]\n",
    "        self.j = s[1]\n",
    "        \n",
    "    def current_state(self):\n",
    "        return(self.i, self.j)\n",
    "    \n",
    "    def is_terminal(self, s):\n",
    "        return s not in self.actions\n",
    "    \n",
    "    def move(self, action):\n",
    "        if action in self.actions[(self.i, self.j)]:\n",
    "            if action == 'U':\n",
    "                self.i -= 1\n",
    "            elif action == 'D':\n",
    "                self.i += 1\n",
    "            elif action == 'R':\n",
    "                self.j += 1\n",
    "            elif action == 'L':\n",
    "                self.j -= 1\n",
    "        return self.rewards.get((self.i, self.j), 0)\n",
    "    \n",
    "    def all_states(self):\n",
    "        return set(self.actions.keys()) | set(self.rewards.keys())\n",
    "    "
   ]
  },
  {
   "cell_type": "code",
   "execution_count": 81,
   "metadata": {},
   "outputs": [
    {
     "data": {
      "text/plain": [
       "{'a', 'b', 'c'}"
      ]
     },
     "execution_count": 81,
     "metadata": {},
     "output_type": "execute_result"
    }
   ],
   "source": [
    "hmm = {'a':1, 'b':2, 'c':3}\n",
    "set(hmm.keys())"
   ]
  },
  {
   "cell_type": "code",
   "execution_count": 64,
   "metadata": {},
   "outputs": [],
   "source": [
    "def standard_grid():\n",
    "    grid = Grid(3, 4, (2,0))\n",
    "    rewards = {(0,3):1, (1,3):-1}\n",
    "    actions = {\n",
    "\t\t(0, 0): ('D', 'R'),\n",
    "\t\t(0, 1): ('L', 'R'),\n",
    "\t\t(0, 2): ('L', 'D', 'R'),\n",
    "\t\t(1, 0): ('U', 'D'),\n",
    "\t\t(1, 2): ('U', 'D', 'R'),\n",
    "\t\t(2, 0): ('U', 'R'),\n",
    "\t\t(2, 1): ('L', 'R'),\n",
    "\t\t(2, 2): ('L', 'R', 'U'),\n",
    "\t\t(2, 3): ('L', 'U'),\n",
    "    }\n",
    "    grid.set(rewards, actions)\n",
    "    return grid\n",
    "\n",
    "def print_values(V, grid):\n",
    "    for i in range(grid.rows):\n",
    "        print(\"--------------------------\")\n",
    "        for j in range(grid.cols):\n",
    "            value = V.get((i, j), 0)\n",
    "            if value >= 0:\n",
    "                print(f\"{value:.2f} | \", end =\"\")\n",
    "            else:\n",
    "                print(f\"{value:.2f}| \", end =\"\")\n",
    "        print(\"\")\n",
    "        \n",
    "def print_policy(P, grid):\n",
    "    for i in range(grid.rows):\n",
    "        print(\"--------------------------\")\n",
    "        for j in range(grid.cols):\n",
    "            action = P.get((i, j), ' ')\n",
    "            print(f\"  {action}  |\", end=\"\")\n",
    "        print(\"\")\n",
    "        "
   ]
  },
  {
   "cell_type": "code",
   "execution_count": 65,
   "metadata": {},
   "outputs": [
    {
     "name": "stdout",
     "output_type": "stream",
     "text": [
      "--------------------------\n",
      "0.00 | 0.00 | 0.00 | 1.00 | \n",
      "--------------------------\n",
      "0.00 | 0.00 | 0.00 | -1.00| \n",
      "--------------------------\n",
      "0.00 | 0.00 | 0.00 | 0.00 | \n",
      "--------------------------\n",
      "  U  |  U  |  D  |     |\n",
      "--------------------------\n",
      "  L  |     |  U  |     |\n",
      "--------------------------\n",
      "  L  |  R  |  D  |  L  |\n"
     ]
    }
   ],
   "source": [
    "smp = standard_grid()\n",
    "print_values(smp.rewards, smp)\n",
    "policy = {}\n",
    "for i in smp.actions.keys():\n",
    "    policy[i] = np.random.choice(ACTIONS)\n",
    "print_policy(policy, smp)"
   ]
  },
  {
   "cell_type": "code",
   "execution_count": 67,
   "metadata": {},
   "outputs": [],
   "source": []
  },
  {
   "cell_type": "code",
   "execution_count": 68,
   "metadata": {},
   "outputs": [
    {
     "name": "stdout",
     "output_type": "stream",
     "text": [
      "--------------------------\n",
      "0.04 | 0.97 | 0.21 | 0.00 | \n",
      "--------------------------\n",
      "0.55 | 0.00 | 0.10 | 0.00 | \n",
      "--------------------------\n",
      "0.79 | 0.13 | 0.83 | 0.63 | \n"
     ]
    }
   ],
   "source": []
  },
  {
   "cell_type": "code",
   "execution_count": 87,
   "metadata": {},
   "outputs": [
    {
     "name": "stdout",
     "output_type": "stream",
     "text": [
      "--------------------------\n",
      "0.24 | 0.76 | 0.79 | 0.00 | \n",
      "--------------------------\n",
      "0.48 | 0.00 | 0.19 | 0.00 | \n",
      "--------------------------\n",
      "0.67 | 0.72 | 0.83 | 0.45 | \n",
      "\n",
      "--------------------------\n",
      "0.64 | 0.71 | 1.00 | 0.00 | \n",
      "--------------------------\n",
      "0.61 | 0.00 | 0.75 | 0.00 | \n",
      "--------------------------\n",
      "0.68 | 0.75 | 0.75 | 0.75 | \n",
      "\n",
      "--------------------------\n",
      "0.81 | 0.90 | 1.00 | 0.00 | \n",
      "--------------------------\n",
      "0.73 | 0.00 | 0.90 | 0.00 | \n",
      "--------------------------\n",
      "0.61 | 0.68 | 0.81 | 0.68 | \n",
      "\n",
      "--------------------------\n",
      "0.81 | 0.90 | 1.00 | 0.00 | \n",
      "--------------------------\n",
      "0.73 | 0.00 | 0.90 | 0.00 | \n",
      "--------------------------\n",
      "0.66 | 0.73 | 0.81 | 0.73 | \n",
      "\n",
      "--------------------------\n",
      "0.81 | 0.90 | 1.00 | 0.00 | \n",
      "--------------------------\n",
      "0.73 | 0.00 | 0.90 | 0.00 | \n",
      "--------------------------\n",
      "0.66 | 0.73 | 0.81 | 0.73 | \n",
      "\n"
     ]
    }
   ],
   "source": [
    "V = {}\n",
    "states = smp.all_states()\n",
    "for s in states:\n",
    "    if s in smp.actions:\n",
    "        V[s] = np.random.random()\n",
    "    else:\n",
    "        V[s] = 0\n",
    "print_values(V, smp)\n",
    "print(\"\")\n",
    "\n",
    "loop = 0\n",
    "\n",
    "while True:\n",
    "    maxChange = 0\n",
    "    for s in states:\n",
    "        oldValue = V[s]\n",
    "        \n",
    "        if s in policy:\n",
    "            newValue = float('-inf')\n",
    "            for a in ACTIONS:\n",
    "                smp.set_state(s)\n",
    "                r = smp.move(a)\n",
    "                v = r + GAMMA*V[smp.current_state()]\n",
    "                if v > newValue:\n",
    "                    newValue = v\n",
    "            V[s] = newValue\n",
    "            maxChange = max(maxChange, np.abs(oldValue - V[s]))\n",
    "    print_values(V, smp)\n",
    "    print(\"\")\n",
    "    loop += 1\n",
    "    \n",
    "    if maxChange < DELTA_THRESHOLD:\n",
    "        break\n",
    "    "
   ]
  },
  {
   "cell_type": "code",
   "execution_count": 88,
   "metadata": {},
   "outputs": [],
   "source": [
    "for s in policy.keys():\n",
    "    bestAction = None\n",
    "    bestValue = float('-inf')\n",
    "    \n",
    "    for a in ACTIONS:\n",
    "        smp.set_state(s)\n",
    "        r = smp.move(a)\n",
    "        v = r + GAMMA * V[smp.current_state()]\n",
    "        if v > bestValue:\n",
    "            bestValue = v\n",
    "            bestAction = a\n",
    "        policy[s] = bestAction\n",
    "        "
   ]
  },
  {
   "cell_type": "code",
   "execution_count": 89,
   "metadata": {},
   "outputs": [
    {
     "name": "stdout",
     "output_type": "stream",
     "text": [
      "--------------------------\n",
      "0.81 | 0.90 | 1.00 | 0.00 | \n",
      "--------------------------\n",
      "0.73 | 0.00 | 0.90 | 0.00 | \n",
      "--------------------------\n",
      "0.66 | 0.73 | 0.81 | 0.73 | \n",
      "\n",
      "--------------------------\n",
      "  R  |  R  |  R  |     |\n",
      "--------------------------\n",
      "  U  |     |  U  |     |\n",
      "--------------------------\n",
      "  U  |  R  |  U  |  L  |\n"
     ]
    }
   ],
   "source": [
    "print_values(V, smp)\n",
    "print(\"\")\n",
    "print_policy(policy, smp)"
   ]
  }
 ],
 "metadata": {
  "kernelspec": {
   "display_name": "Python 3.8.10 64-bit",
   "language": "python",
   "name": "python3"
  },
  "language_info": {
   "codemirror_mode": {
    "name": "ipython",
    "version": 3
   },
   "file_extension": ".py",
   "mimetype": "text/x-python",
   "name": "python",
   "nbconvert_exporter": "python",
   "pygments_lexer": "ipython3",
   "version": "3.8.10"
  },
  "orig_nbformat": 4,
  "vscode": {
   "interpreter": {
    "hash": "f94c5b3071b056423767ba33033da7874066049705ac9bddedb26ddd4b9c758b"
   }
  }
 },
 "nbformat": 4,
 "nbformat_minor": 2
}
